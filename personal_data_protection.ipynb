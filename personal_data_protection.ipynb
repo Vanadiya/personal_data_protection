{
 "cells": [
  {
   "cell_type": "markdown",
   "metadata": {
    "toc": true
   },
   "source": [
    "<h1>Содержание<span class=\"tocSkip\"></span></h1>\n",
    "<div class=\"toc\"><ul class=\"toc-item\"><li><span><a href=\"#Загрузка-данных\" data-toc-modified-id=\"Загрузка-данных-1\"><span class=\"toc-item-num\">1&nbsp;&nbsp;</span>Загрузка данных</a></span><ul class=\"toc-item\"><li><span><a href=\"#Общая-информация-о-данных.\" data-toc-modified-id=\"Общая-информация-о-данных.-1.1\"><span class=\"toc-item-num\">1.1&nbsp;&nbsp;</span>Общая информация о данных.</a></span></li><li><span><a href=\"#Удаление-дубликатов.\" data-toc-modified-id=\"Удаление-дубликатов.-1.2\"><span class=\"toc-item-num\">1.2&nbsp;&nbsp;</span>Удаление дубликатов.</a></span></li><li><span><a href=\"#Изменение-типа-данных\" data-toc-modified-id=\"Изменение-типа-данных-1.3\"><span class=\"toc-item-num\">1.3&nbsp;&nbsp;</span>Изменение типа данных</a></span></li><li><span><a href=\"#Переименование-столбцов-датафрейма\" data-toc-modified-id=\"Переименование-столбцов-датафрейма-1.4\"><span class=\"toc-item-num\">1.4&nbsp;&nbsp;</span>Переименование столбцов датафрейма</a></span></li></ul></li><li><span><a href=\"#Умножение-матриц\" data-toc-modified-id=\"Умножение-матриц-2\"><span class=\"toc-item-num\">2&nbsp;&nbsp;</span>Умножение матриц</a></span><ul class=\"toc-item\"><li><span><a href=\"#Создадим-свой-собственный-класс-линейной-регрессии\" data-toc-modified-id=\"Создадим-свой-собственный-класс-линейной-регрессии-2.1\"><span class=\"toc-item-num\">2.1&nbsp;&nbsp;</span>Создадим свой собственный класс линейной регрессии</a></span></li><li><span><a href=\"#Выделение-целевого-признака\" data-toc-modified-id=\"Выделение-целевого-признака-2.2\"><span class=\"toc-item-num\">2.2&nbsp;&nbsp;</span>Выделение целевого признака</a></span></li><li><span><a href=\"#Создание-обратимой-матрицы\" data-toc-modified-id=\"Создание-обратимой-матрицы-2.3\"><span class=\"toc-item-num\">2.3&nbsp;&nbsp;</span>Создание обратимой матрицы</a></span></li><li><span><a href=\"#Создадим-модели.\" data-toc-modified-id=\"Создадим-модели.-2.4\"><span class=\"toc-item-num\">2.4&nbsp;&nbsp;</span>Создадим модели.</a></span></li></ul></li><li><span><a href=\"#Алгоритм-преобразования\" data-toc-modified-id=\"Алгоритм-преобразования-3\"><span class=\"toc-item-num\">3&nbsp;&nbsp;</span>Алгоритм преобразования</a></span></li><li><span><a href=\"#Проверка-алгоритма\" data-toc-modified-id=\"Проверка-алгоритма-4\"><span class=\"toc-item-num\">4&nbsp;&nbsp;</span>Проверка алгоритма</a></span><ul class=\"toc-item\"><li><span><a href=\"#Запрограммируем-алгоритм\" data-toc-modified-id=\"Запрограммируем-алгоритм-4.1\"><span class=\"toc-item-num\">4.1&nbsp;&nbsp;</span>Запрограммируем алгоритм</a></span></li><li><span><a href=\"#Общий-вывод\" data-toc-modified-id=\"Общий-вывод-4.2\"><span class=\"toc-item-num\">4.2&nbsp;&nbsp;</span>Общий вывод</a></span></li></ul></li><li><span><a href=\"#Чек-лист-проверки\" data-toc-modified-id=\"Чек-лист-проверки-5\"><span class=\"toc-item-num\">5&nbsp;&nbsp;</span></a></span></li></ul></div>"
   ]
  },
  {
   "cell_type": "markdown",
   "metadata": {},
   "source": [
    "**Инструкция по выполнению проекта**\n",
    "\n",
    "1)Загрузите и изучите данные.\n",
    "\n",
    "2)Ответьте на вопрос и обоснуйте решение.\n",
    "Признаки умножают на обратимую матрицу. Изменится ли качество линейной регрессии? (Её можно обучить заново.)\n",
    "\n",
    "a. Изменится. Приведите примеры матриц.\n",
    "\n",
    "b. Не изменится. Укажите, как связаны параметры линейной регрессии в исходной задаче и в преобразованной.\n",
    "\n",
    "3)Предложите алгоритм преобразования данных для решения задачи. Обоснуйте, почему качество линейной регрессии не поменяется.\n",
    "\n",
    "4)Запрограммируйте этот алгоритм, применив матричные операции. Проверьте, что качество линейной регрессии из sklearn не отличается до и после преобразования. Примените метрику R2."
   ]
  },
  {
   "cell_type": "markdown",
   "metadata": {},
   "source": [
    "# Защита персональных данных клиентов"
   ]
  },
  {
   "cell_type": "markdown",
   "metadata": {},
   "source": [
    "Вам нужно защитить данные клиентов страховой компании «Хоть потоп». Разработайте такой метод преобразования данных, чтобы по ним было сложно восстановить персональную информацию. Обоснуйте корректность его работы.\n",
    "\n",
    "Нужно защитить данные, чтобы при преобразовании качество моделей машинного обучения не ухудшилось. Подбирать наилучшую модель не требуется."
   ]
  },
  {
   "cell_type": "markdown",
   "metadata": {},
   "source": [
    "## Загрузка данных"
   ]
  },
  {
   "cell_type": "markdown",
   "metadata": {},
   "source": [
    "Подгружаем необходимые для работы библиотеки."
   ]
  },
  {
   "cell_type": "code",
   "execution_count": 1,
   "metadata": {
    "ExecuteTime": {
     "end_time": "2022-11-08T21:21:14.617880Z",
     "start_time": "2022-11-08T21:21:14.605885Z"
    }
   },
   "outputs": [],
   "source": [
    "import os\n",
    "\n",
    "import numpy as np\n",
    "import pandas as pd\n",
    "\n",
    "from sklearn.metrics import r2_score"
   ]
  },
  {
   "cell_type": "markdown",
   "metadata": {},
   "source": [
    "Загружаем данные для проекта."
   ]
  },
  {
   "cell_type": "code",
   "execution_count": 2,
   "metadata": {
    "ExecuteTime": {
     "end_time": "2022-11-08T21:21:14.649163Z",
     "start_time": "2022-11-08T21:21:14.620878Z"
    }
   },
   "outputs": [],
   "source": [
    "pth_1 = 'insurance.csv'\n",
    "pth_2 = '/datasets/insurance.csv'\n",
    "\n",
    "if os.path.exists(pth_1):\n",
    "    something_private = pd.read_csv(pth_1)   \n",
    "elif os.path.exists(pth_2):\n",
    "    something_private = pd.read_csv(pth_2)\n",
    "else:\n",
    "    print('No data - no fun!')"
   ]
  },
  {
   "cell_type": "markdown",
   "metadata": {},
   "source": [
    "### Общая информация о данных."
   ]
  },
  {
   "cell_type": "code",
   "execution_count": 3,
   "metadata": {
    "ExecuteTime": {
     "end_time": "2022-11-08T21:21:14.695556Z",
     "start_time": "2022-11-08T21:21:14.651149Z"
    }
   },
   "outputs": [
    {
     "data": {
      "text/html": [
       "<div>\n",
       "<style scoped>\n",
       "    .dataframe tbody tr th:only-of-type {\n",
       "        vertical-align: middle;\n",
       "    }\n",
       "\n",
       "    .dataframe tbody tr th {\n",
       "        vertical-align: top;\n",
       "    }\n",
       "\n",
       "    .dataframe thead th {\n",
       "        text-align: right;\n",
       "    }\n",
       "</style>\n",
       "<table border=\"1\" class=\"dataframe\">\n",
       "  <thead>\n",
       "    <tr style=\"text-align: right;\">\n",
       "      <th></th>\n",
       "      <th>Пол</th>\n",
       "      <th>Возраст</th>\n",
       "      <th>Зарплата</th>\n",
       "      <th>Члены семьи</th>\n",
       "      <th>Страховые выплаты</th>\n",
       "    </tr>\n",
       "  </thead>\n",
       "  <tbody>\n",
       "    <tr>\n",
       "      <th>0</th>\n",
       "      <td>1</td>\n",
       "      <td>41.0</td>\n",
       "      <td>49600.0</td>\n",
       "      <td>1</td>\n",
       "      <td>0</td>\n",
       "    </tr>\n",
       "    <tr>\n",
       "      <th>1</th>\n",
       "      <td>0</td>\n",
       "      <td>46.0</td>\n",
       "      <td>38000.0</td>\n",
       "      <td>1</td>\n",
       "      <td>1</td>\n",
       "    </tr>\n",
       "    <tr>\n",
       "      <th>2</th>\n",
       "      <td>0</td>\n",
       "      <td>29.0</td>\n",
       "      <td>21000.0</td>\n",
       "      <td>0</td>\n",
       "      <td>0</td>\n",
       "    </tr>\n",
       "    <tr>\n",
       "      <th>3</th>\n",
       "      <td>0</td>\n",
       "      <td>21.0</td>\n",
       "      <td>41700.0</td>\n",
       "      <td>2</td>\n",
       "      <td>0</td>\n",
       "    </tr>\n",
       "    <tr>\n",
       "      <th>4</th>\n",
       "      <td>1</td>\n",
       "      <td>28.0</td>\n",
       "      <td>26100.0</td>\n",
       "      <td>0</td>\n",
       "      <td>0</td>\n",
       "    </tr>\n",
       "  </tbody>\n",
       "</table>\n",
       "</div>"
      ],
      "text/plain": [
       "   Пол  Возраст  Зарплата  Члены семьи  Страховые выплаты\n",
       "0    1     41.0   49600.0            1                  0\n",
       "1    0     46.0   38000.0            1                  1\n",
       "2    0     29.0   21000.0            0                  0\n",
       "3    0     21.0   41700.0            2                  0\n",
       "4    1     28.0   26100.0            0                  0"
      ]
     },
     "execution_count": 3,
     "metadata": {},
     "output_type": "execute_result"
    }
   ],
   "source": [
    "#посмотрим что там внутри\n",
    "something_private.head()"
   ]
  },
  {
   "cell_type": "markdown",
   "metadata": {},
   "source": [
    "Выведем размеры датасета."
   ]
  },
  {
   "cell_type": "code",
   "execution_count": 4,
   "metadata": {
    "ExecuteTime": {
     "end_time": "2022-11-08T21:21:14.711550Z",
     "start_time": "2022-11-08T21:21:14.700555Z"
    }
   },
   "outputs": [
    {
     "name": "stdout",
     "output_type": "stream",
     "text": [
      "Размерность исходных данных: (5000, 5)\n"
     ]
    }
   ],
   "source": [
    "print(\"Размерность исходных данных:\", something_private.shape)"
   ]
  },
  {
   "cell_type": "code",
   "execution_count": 5,
   "metadata": {
    "ExecuteTime": {
     "end_time": "2022-11-08T21:21:14.759520Z",
     "start_time": "2022-11-08T21:21:14.717545Z"
    }
   },
   "outputs": [
    {
     "name": "stdout",
     "output_type": "stream",
     "text": [
      "<class 'pandas.core.frame.DataFrame'>\n",
      "RangeIndex: 5000 entries, 0 to 4999\n",
      "Data columns (total 5 columns):\n",
      " #   Column             Non-Null Count  Dtype  \n",
      "---  ------             --------------  -----  \n",
      " 0   Пол                5000 non-null   int64  \n",
      " 1   Возраст            5000 non-null   float64\n",
      " 2   Зарплата           5000 non-null   float64\n",
      " 3   Члены семьи        5000 non-null   int64  \n",
      " 4   Страховые выплаты  5000 non-null   int64  \n",
      "dtypes: float64(2), int64(3)\n",
      "memory usage: 195.4 KB\n"
     ]
    }
   ],
   "source": [
    "# посмотрим структуру датасета\n",
    "\n",
    "something_private.info()"
   ]
  },
  {
   "cell_type": "code",
   "execution_count": 6,
   "metadata": {
    "ExecuteTime": {
     "end_time": "2022-11-08T21:21:14.791500Z",
     "start_time": "2022-11-08T21:21:14.765516Z"
    }
   },
   "outputs": [
    {
     "data": {
      "text/plain": [
       "Пол                  0\n",
       "Возраст              0\n",
       "Зарплата             0\n",
       "Члены семьи          0\n",
       "Страховые выплаты    0\n",
       "dtype: int64"
      ]
     },
     "execution_count": 6,
     "metadata": {},
     "output_type": "execute_result"
    }
   ],
   "source": [
    "# проверим, есть ли пропуски\n",
    "\n",
    "something_private.isnull().sum()"
   ]
  },
  {
   "cell_type": "code",
   "execution_count": 7,
   "metadata": {
    "ExecuteTime": {
     "end_time": "2022-11-08T21:21:14.822482Z",
     "start_time": "2022-11-08T21:21:14.794499Z"
    }
   },
   "outputs": [
    {
     "name": "stdout",
     "output_type": "stream",
     "text": [
      "Явных дубликатов: 153\n"
     ]
    }
   ],
   "source": [
    "print('Явных дубликатов:', something_private.duplicated().sum())"
   ]
  },
  {
   "cell_type": "markdown",
   "metadata": {},
   "source": [
    "Проопусков нет, полет нормальный! Я бы изменила тип данных с плавающей точкой, на целочисленные, так как в данных нет десятых частей и я посчитала нужным изменить тип. Также  имеются дубликаты, от которых хочу избавиться (хоть есть большой соблазн не трогать, потому что размер датафрейма идеально пропорционален.\n",
    "\n",
    "Еще я заметила, что столбцы в датафрейме нарушают описанные раннне в практикуме требования, и не смотря на то, что в заднии нет пункта об обработке данных, я решила, что их лучше изменить."
   ]
  },
  {
   "cell_type": "markdown",
   "metadata": {},
   "source": [
    "### Удаление дубликатов."
   ]
  },
  {
   "cell_type": "markdown",
   "metadata": {
    "ExecuteTime": {
     "end_time": "2022-11-08T21:21:14.853474Z",
     "start_time": "2022-11-08T21:21:14.826481Z"
    }
   },
   "source": [
    "#Удалим явные дубликаты из данных.\n",
    "something_private = something_private.drop_duplicates(keep='first')"
   ]
  },
  {
   "cell_type": "markdown",
   "metadata": {
    "ExecuteTime": {
     "end_time": "2022-11-05T18:23:29.138985Z",
     "start_time": "2022-11-05T18:23:29.119996Z"
    }
   },
   "source": [
    "### Изменение типа данных"
   ]
  },
  {
   "cell_type": "code",
   "execution_count": 8,
   "metadata": {
    "ExecuteTime": {
     "end_time": "2022-11-08T21:21:14.869455Z",
     "start_time": "2022-11-08T21:21:14.858463Z"
    }
   },
   "outputs": [],
   "source": [
    "#изменим тип данных с плавающей точкой на целочисленные\n",
    "\n",
    "something_private['Возраст'] = something_private['Возраст'].astype('int') "
   ]
  },
  {
   "cell_type": "code",
   "execution_count": 9,
   "metadata": {
    "ExecuteTime": {
     "end_time": "2022-11-08T21:21:14.885447Z",
     "start_time": "2022-11-08T21:21:14.873453Z"
    }
   },
   "outputs": [],
   "source": [
    "#изменим тип данных с плавающей точкой на целочисленные\n",
    "\n",
    "something_private['Зарплата'] = something_private['Зарплата'].astype('int') "
   ]
  },
  {
   "cell_type": "markdown",
   "metadata": {},
   "source": [
    "### Переименование столбцов датафрейма"
   ]
  },
  {
   "cell_type": "code",
   "execution_count": 10,
   "metadata": {
    "ExecuteTime": {
     "end_time": "2022-11-08T21:21:14.901437Z",
     "start_time": "2022-11-08T21:21:14.889444Z"
    }
   },
   "outputs": [],
   "source": [
    "something_private= something_private.rename(\n",
    "    columns={\n",
    "        'Пол': 'gender',\n",
    "        'Возраст': 'age',\n",
    "        'Зарплата': 'salary',\n",
    "        'Члены семьи': 'family_member',  \n",
    "        'Страховые выплаты': 'insurance_payments',\n",
    "    }\n",
    ")"
   ]
  },
  {
   "cell_type": "code",
   "execution_count": 11,
   "metadata": {
    "ExecuteTime": {
     "end_time": "2022-11-08T21:21:14.933418Z",
     "start_time": "2022-11-08T21:21:14.905435Z"
    }
   },
   "outputs": [
    {
     "name": "stdout",
     "output_type": "stream",
     "text": [
      "<class 'pandas.core.frame.DataFrame'>\n",
      "RangeIndex: 5000 entries, 0 to 4999\n",
      "Data columns (total 5 columns):\n",
      " #   Column              Non-Null Count  Dtype\n",
      "---  ------              --------------  -----\n",
      " 0   gender              5000 non-null   int64\n",
      " 1   age                 5000 non-null   int64\n",
      " 2   salary              5000 non-null   int64\n",
      " 3   family_member       5000 non-null   int64\n",
      " 4   insurance_payments  5000 non-null   int64\n",
      "dtypes: int64(5)\n",
      "memory usage: 195.4 KB\n"
     ]
    }
   ],
   "source": [
    "something_private.info()"
   ]
  },
  {
   "cell_type": "markdown",
   "metadata": {},
   "source": [
    "В ходе первого этапа была получена информация о данных, удалены дубликаты, изменены типы данных двух столбцов (Зарплата и возраст). Таже были переименованы столбцы датафрема (для обучения они не важны, но решила все же их подправить под требования)."
   ]
  },
  {
   "cell_type": "markdown",
   "metadata": {},
   "source": [
    "## Умножение матриц"
   ]
  },
  {
   "cell_type": "markdown",
   "metadata": {},
   "source": [
    "### Создадим свой собственный класс линейной регрессии"
   ]
  },
  {
   "cell_type": "code",
   "execution_count": 12,
   "metadata": {
    "ExecuteTime": {
     "end_time": "2022-11-08T21:21:14.968399Z",
     "start_time": "2022-11-08T21:21:14.938416Z"
    }
   },
   "outputs": [],
   "source": [
    "class CustomLinReg:\n",
    "    \"\"\"Собственный класс линейной регрессии, для наглядности происходящего.\"\"\"\n",
    "    def fit(self, train_features, train_target):\n",
    "        \"\"\"Метод обучения модели.\"\"\"\n",
    "        X = np.concatenate((np.ones((train_features.shape[0], 1)), train_features), axis=1)\n",
    "        y = train_target\n",
    "        w = (np.linalg.inv(X.T.dot(X)).dot(X.T)).dot(y)\n",
    "        self.w = w[1:]\n",
    "        self.w0 = w[0]\n",
    "\n",
    "    def predict(self, test_features):\n",
    "        \"\"\"Метод предсказания целевого признака.\"\"\"\n",
    "        return test_features.dot(self.w) + self.w0"
   ]
  },
  {
   "cell_type": "markdown",
   "metadata": {},
   "source": [
    "### Выделение целевого признака"
   ]
  },
  {
   "cell_type": "code",
   "execution_count": 13,
   "metadata": {
    "ExecuteTime": {
     "end_time": "2022-11-08T21:21:15.013372Z",
     "start_time": "2022-11-08T21:21:14.977394Z"
    }
   },
   "outputs": [],
   "source": [
    "features = something_private.drop('insurance_payments', axis=1)\n",
    "target = something_private['insurance_payments']"
   ]
  },
  {
   "cell_type": "markdown",
   "metadata": {},
   "source": [
    "### Создание обратимой матрицы"
   ]
  },
  {
   "cell_type": "markdown",
   "metadata": {},
   "source": [
    "Для ответа на вопрос, который указан во втором пункте \n",
    "\n",
    "**Признаки умножают на обратимую матрицу. Изменится ли качество линейной регрессии? (Её можно обучить заново.)**\n",
    "\n",
    "Создадим две случайных обратимых матрицы."
   ]
  },
  {
   "cell_type": "code",
   "execution_count": 14,
   "metadata": {
    "ExecuteTime": {
     "end_time": "2022-11-08T21:21:15.029364Z",
     "start_time": "2022-11-08T21:21:15.017371Z"
    }
   },
   "outputs": [],
   "source": [
    "#np.random.seed(12345)\n",
    "random_matrix_1 = np.random.normal(size=(4,4))\n",
    "random_matrix_2 = np.random.normal(size=(4,4))"
   ]
  },
  {
   "cell_type": "markdown",
   "metadata": {},
   "source": [
    "Проверим, обратимы ли случайные матрицы.\n",
    "\n",
    "Критерий обратимости: матрица обратима тогда и только тогда, \n",
    "когда она невырождена, то есть её определитель не равен нулю."
   ]
  },
  {
   "cell_type": "code",
   "execution_count": 15,
   "metadata": {
    "ExecuteTime": {
     "end_time": "2022-11-08T21:21:15.061347Z",
     "start_time": "2022-11-08T21:21:15.033361Z"
    }
   },
   "outputs": [
    {
     "name": "stdout",
     "output_type": "stream",
     "text": [
      "Определитель случайной матрицы 1: -1.3023485381549165\n",
      "Определитель случайной матрицы 2: -0.17799919353374055\n"
     ]
    }
   ],
   "source": [
    "print('Определитель случайной матрицы 1:', np.linalg.det(random_matrix_1))\n",
    "print('Определитель случайной матрицы 2:', np.linalg.det(random_matrix_2))"
   ]
  },
  {
   "cell_type": "markdown",
   "metadata": {},
   "source": [
    "Определители не нулевые - матрицы обратимы.\n",
    "Попробуем вывести обратные матрицы:"
   ]
  },
  {
   "cell_type": "code",
   "execution_count": 16,
   "metadata": {
    "ExecuteTime": {
     "end_time": "2022-11-08T21:21:15.094326Z",
     "start_time": "2022-11-08T21:21:15.066342Z"
    }
   },
   "outputs": [
    {
     "name": "stdout",
     "output_type": "stream",
     "text": [
      "[[ 0.3480236   0.11956266  0.56633558  0.12612545]\n",
      " [ 0.4001255  -0.36594895  0.34626445 -0.28268795]\n",
      " [-2.26145686 -0.47250144 -0.59701058  0.64669794]\n",
      " [ 0.55623888 -0.62006161 -0.56020362  0.61854656]]\n",
      "[[ 2.85560482  0.35050834  1.09442456  1.14268744]\n",
      " [-2.23220342  0.56112308 -0.86112402 -2.23933441]\n",
      " [-8.76471515 -2.10001742 -2.95609962 -4.40551388]\n",
      " [15.15989545  2.99887203  4.43373498  7.09268338]]\n"
     ]
    }
   ],
   "source": [
    "print(np.linalg.inv(random_matrix_1))\n",
    "print(np.linalg.inv(random_matrix_2))"
   ]
  },
  {
   "cell_type": "markdown",
   "metadata": {},
   "source": [
    "Зашифруем исходные признаки умножением на наши случайные матрицы:"
   ]
  },
  {
   "cell_type": "code",
   "execution_count": 17,
   "metadata": {
    "ExecuteTime": {
     "end_time": "2022-11-08T21:21:15.218254Z",
     "start_time": "2022-11-08T21:21:15.105320Z"
    }
   },
   "outputs": [
    {
     "name": "stdout",
     "output_type": "stream",
     "text": [
      "(5000, 4)\n",
      "(5000, 4)\n"
     ]
    }
   ],
   "source": [
    "multiplied_matrix_1 = features.values@random_matrix_1\n",
    "multiplied_matrix_2 = features.values@random_matrix_2\n",
    "\n",
    "print(multiplied_matrix_1.shape)\n",
    "print(multiplied_matrix_2.shape)"
   ]
  },
  {
   "cell_type": "markdown",
   "metadata": {},
   "source": [
    "### Создадим модели."
   ]
  },
  {
   "cell_type": "code",
   "execution_count": 18,
   "metadata": {
    "ExecuteTime": {
     "end_time": "2022-11-08T21:21:15.250235Z",
     "start_time": "2022-11-08T21:21:15.222253Z"
    }
   },
   "outputs": [],
   "source": [
    "model_1 = CustomLinReg()\n",
    "model_1.fit(features, target)\n",
    "predictions_1 = model_1.predict(features)\n",
    "model_1_r2 = r2_score(target, predictions_1)"
   ]
  },
  {
   "cell_type": "code",
   "execution_count": 19,
   "metadata": {
    "ExecuteTime": {
     "end_time": "2022-11-08T21:21:15.281217Z",
     "start_time": "2022-11-08T21:21:15.259231Z"
    }
   },
   "outputs": [
    {
     "name": "stdout",
     "output_type": "stream",
     "text": [
      "R2 для модели 1 обученной на исходных данных: 0.42495\n"
     ]
    }
   ],
   "source": [
    "print('R2 для модели 1 обученной на исходных данных:', model_1_r2.round(5))"
   ]
  },
  {
   "cell_type": "code",
   "execution_count": 20,
   "metadata": {
    "ExecuteTime": {
     "end_time": "2022-11-08T21:21:15.313207Z",
     "start_time": "2022-11-08T21:21:15.291211Z"
    }
   },
   "outputs": [],
   "source": [
    "model_2 = CustomLinReg()\n",
    "model_2.fit(multiplied_matrix_1, target)\n",
    "predictions_2 = model_2.predict(multiplied_matrix_1)\n",
    "model_2_r2 = r2_score(target, predictions_2)"
   ]
  },
  {
   "cell_type": "code",
   "execution_count": 21,
   "metadata": {
    "ExecuteTime": {
     "end_time": "2022-11-08T21:21:15.329189Z",
     "start_time": "2022-11-08T21:21:15.317197Z"
    }
   },
   "outputs": [
    {
     "name": "stdout",
     "output_type": "stream",
     "text": [
      "R2 для модели 2 обученной на преобразованных данных: 0.42495\n"
     ]
    }
   ],
   "source": [
    "print('R2 для модели 2 обученной на преобразованных данных:', model_2_r2.round(5))"
   ]
  },
  {
   "cell_type": "code",
   "execution_count": 22,
   "metadata": {
    "ExecuteTime": {
     "end_time": "2022-11-08T21:21:15.359173Z",
     "start_time": "2022-11-08T21:21:15.334187Z"
    }
   },
   "outputs": [],
   "source": [
    "model_3 = CustomLinReg()\n",
    "model_3.fit(multiplied_matrix_2,target)\n",
    "predictions_3 = model_3.predict(multiplied_matrix_2)\n",
    "model_3_r2 = r2_score(target, predictions_3)"
   ]
  },
  {
   "cell_type": "code",
   "execution_count": 23,
   "metadata": {
    "ExecuteTime": {
     "end_time": "2022-11-08T21:21:15.374165Z",
     "start_time": "2022-11-08T21:21:15.364170Z"
    }
   },
   "outputs": [
    {
     "name": "stdout",
     "output_type": "stream",
     "text": [
      "R2 для модели 3 обученной на преобразованных данных: 0.42495\n"
     ]
    }
   ],
   "source": [
    "print('R2 для модели 3 обученной на преобразованных данных:', model_3_r2.round(5))"
   ]
  },
  {
   "cell_type": "markdown",
   "metadata": {},
   "source": [
    "Преобразование данных практически никак не влияет на качество обучения модели, зато позволяет применить алгоритмы преобразования данных с целью их обезличивания."
   ]
  },
  {
   "cell_type": "markdown",
   "metadata": {},
   "source": [
    "## Алгоритм преобразования"
   ]
  },
  {
   "cell_type": "markdown",
   "metadata": {},
   "source": [
    "- Создадим случайную матрицу P\n",
    "- Проверяем, обратима ли матрица P\n",
    "- Умножим матрицу признаков на матрицу P \n",
    "- Сравниваем метрику R2 на исходных и на преобразованных признаках\n",
    "- Проанализируем результат"
   ]
  },
  {
   "cell_type": "markdown",
   "metadata": {},
   "source": [
    "Обозначения:\n",
    "\n",
    "- $X$ — матрица признаков (нулевой столбец состоит из единиц)\n",
    "\n",
    "- $y$ — вектор целевого признака\n",
    "\n",
    "- $P$ — матрица, на которую умножаются признаки\n",
    "\n",
    "- $w$ — вектор весов линейной регрессии (нулевой элемент равен сдвигу)"
   ]
  },
  {
   "cell_type": "markdown",
   "metadata": {},
   "source": [
    "**Обоснование**\n",
    "\n",
    "Предсказания:\n",
    "\n",
    "$$\n",
    "a = Xw\n",
    "$$\n",
    "\n",
    "Задача обучения:\n",
    "\n",
    "$$\n",
    "w = \\arg\\min_w MSE(Xw, y)\n",
    "$$\n",
    "\n",
    "Формула обучения:\n",
    "\n",
    "$$\n",
    "w = (X^T X)^{-1} X^T y\n",
    "$$\n",
    "\n",
    "При умножении мтрицы на обратную ей матрицу получается единичная матрица $E$:\n",
    "\n",
    "$$\n",
    "AA^{-1} = A^{-1}A = E\n",
    "$$\n",
    "\n",
    "\n",
    "Умножим $X$ на обратимую случайную матрицу $P$, получим измененную матрицу признаков $X_p$:\n",
    "\n",
    "$$\n",
    "X_p = XP\n",
    "$$\n",
    "\n",
    "Запишем формулу обучения для измененной матрицы $X_p$:\n",
    "\n",
    "$$\n",
    "w_p = (X_p^T X_p)^{-1} X_p^T y = ((XP)^T XP)^{-1} (XP)^T y\n",
    "$$\n",
    "\n",
    "Учтём, что транспонированное произведение матриц равно произведению транспонированных матриц, взятых в обратном порядке:\n",
    "\n",
    "$$\n",
    "(A B)^T = B^T A^T\n",
    "$$\n",
    "\n",
    "Тогда можем преобразовать $w_p$:\n",
    "\n",
    "$$\n",
    "w_p = (P^T (X^T X) P)^{-1} (XP)^T y = (P^T (X^T X) P)^{-1} P^T X^T y = (X^TX)^{-1}(P^TP)^{-1}P^T X^T y = (X^TX)^{-1}P^{-1} (P^T)^{-1}P^T X^T y =(X^TX)^{-1}P^{-1} X^T y\n",
    "$$\n",
    "$$\n",
    "w_p = P^{-1} w\n",
    "$$\n",
    "\n",
    "Следовательно, предсказания для измененной матрицы:\n",
    "\n",
    "$$\n",
    "a_p = (XP)w_p = (XP)P^{-1}w\n",
    "$$\n",
    "$$\n",
    "a = Xw = XEw = XPP^{-1}w = (XP)P^{-1}w\n",
    "$$\n",
    "\n",
    "$$\n",
    "a_p = a\n",
    "$$\n",
    "\n",
    "Предсказания не изменятся, если домножить матрицу обучающих признаков на случайную обратимую матрицу. Алгоритм обоснован.\n"
   ]
  },
  {
   "cell_type": "markdown",
   "metadata": {},
   "source": [
    "**Обоснование, попытка ~вторая~ третья**\n",
    "\n",
    "Предсказания:\n",
    "\n",
    "$$\n",
    "a = Xw\n",
    "$$\n",
    "\n",
    "Задача обучения:\n",
    "\n",
    "$$\n",
    "w = \\arg\\min_w MSE(Xw, y)\n",
    "$$\n",
    "\n",
    "Формула обучения:\n",
    "\n",
    "$$\n",
    "w = (X^T X)^{-1} X^T y\n",
    "$$\n",
    "\n",
    "\n",
    "Докажем, что предсказания $a$ на исходной матрице равны предсказаниям $a_p$\n",
    "на исходной матрице, умноженной на случайную обратимую матрицу $P$.\n",
    "\n",
    "В процессе доказательства воспользуемся свойствами:\n",
    "\n",
    "$$\n",
    "(AB)^T=B^T A^T\n",
    "$$\n",
    "$$\n",
    "(AB)^{-1} = B^{-1} A^{-1}\n",
    "$$\n",
    "$$\n",
    "A A^{-1} = A^{-1} A = E\n",
    "$$\n",
    "$$\n",
    "AE = EA = A\n",
    "$$\n",
    "\n",
    "**1** Умножим $X$ на обратимую случайную матрицу $P$, получим измененную матрицу признаков $X_p$:\n",
    "\n",
    "$$\n",
    "X_p = XP\n",
    "$$\n",
    "\n",
    "**2** Запишем формулу обучения для измененной матрицы $X_p$:\n",
    "\n",
    "$$\n",
    "w_p = (X_p^T X_p)^{-1} X_p^T y = ((XP)^T XP)^{-1} (XP)^T y\n",
    "$$\n",
    "\n",
    "**3** Преобразуем $w_p$:\n",
    "\n",
    "$$\n",
    "w_p = (P^T (X^T X P))^{-1} P^T X^T y\n",
    "$$ \n",
    "\n",
    "$$\n",
    " = (X^T X P)^{-1} (P^T)^{-1} P^T X^T y\n",
    "$$\n",
    "\n",
    "$$\n",
    " = ((X^T X) P)^{-1} E X^T y\n",
    "$$\n",
    "\n",
    "$$\n",
    " = P^{-1} (X^T X)^{-1} X^T y\n",
    "$$\n",
    "\n",
    "\n",
    "Следовательно, получаем:\n",
    "\n",
    "$$\n",
    "w_p = P^{-1} w\n",
    "$$\n",
    "\n",
    "**4** Сравним редсказания $a$ и редсказания для \n",
    "измененной матрицы $a_p$:\n",
    "\n",
    "$$\n",
    "a = Xw\n",
    "$$\n",
    "\n",
    "$$\n",
    "a_p = X P w_p = X P P^{-1} w\n",
    "$$\n",
    "\n",
    "$$\n",
    "= X E w = X w\n",
    "$$\n",
    "\n",
    "Следовательно \n",
    "\n",
    "$$\n",
    "a_p = a\n",
    "$$\n",
    "\n",
    "ПОЛУЧИЛОСЬ!)))\n",
    "Предсказания не изменятся, если домножить матрицу обучающих признаков на случайную обратимую матрицу. Алгоритм обоснован.\n"
   ]
  },
  {
   "cell_type": "markdown",
   "metadata": {},
   "source": [
    "## Проверка алгоритма"
   ]
  },
  {
   "cell_type": "markdown",
   "metadata": {},
   "source": [
    "### Запрограммируем алгоритм"
   ]
  },
  {
   "cell_type": "code",
   "execution_count": 24,
   "metadata": {
    "ExecuteTime": {
     "end_time": "2022-11-08T21:21:15.405147Z",
     "start_time": "2022-11-08T21:21:15.378162Z"
    }
   },
   "outputs": [],
   "source": [
    "class SecureLinReg:\n",
    "    \"\"\"Улучшенная пользовательская модель линейной регрессии.\n",
    "    В методах fit и predict признаки теперь\n",
    "    по умолчанию умножаются на случайную матрицу P.\n",
    "    \"\"\"\n",
    "    \n",
    "    def proper_random_matrix(self, matrix):\n",
    "        \"\"\"Метод принимает в качестве аргумента случайную матрицу,\n",
    "        проверяет ее на обратимость, в случае успеха возвращает матрицу\n",
    "        без изменений. В случае неудачи генерирует новую случайную матрицу\n",
    "        и рекурсивно вызывает сам себя с этой новой матрицей на входе.\n",
    "        \"\"\"\n",
    "        determinant = np.linalg.det(matrix)\n",
    "        if determinant == 0:\n",
    "            another_matrix = np.random.normal(size=(4,4))\n",
    "            P = proper_random_matrix(another_matrix)\n",
    "            return P\n",
    "        return matrix\n",
    "    \n",
    "    def fit(self, train_features, train_target):\n",
    "        \"\"\"Метод обучения модели.\"\"\"\n",
    "        P = np.random.normal(size=(4,4))\n",
    "        P = self.proper_random_matrix(P)\n",
    "                  \n",
    "        cyphered_features = train_features.values@P\n",
    "        \n",
    "        X = np.concatenate((np.ones((cyphered_features.shape[0], 1)), cyphered_features), axis=1)\n",
    "        y = train_target\n",
    "        w = (np.linalg.inv(X.T.dot(X)).dot(X.T)).dot(y)\n",
    "        self.w = w[1:]\n",
    "        self.w0 = w[0]\n",
    "        self.P  = P\n",
    "        \n",
    "    def predict(self, test_features):\n",
    "        \"\"\"Метод предсказания целевого признака.\"\"\"\n",
    "        cyphered_features = test_features.values@self.P\n",
    "        \n",
    "        return cyphered_features.dot(self.w) + self.w0"
   ]
  },
  {
   "cell_type": "markdown",
   "metadata": {},
   "source": [
    "Создадим и обучим обновленную модель линейной регрессии"
   ]
  },
  {
   "cell_type": "code",
   "execution_count": 25,
   "metadata": {
    "ExecuteTime": {
     "end_time": "2022-11-08T21:21:15.437127Z",
     "start_time": "2022-11-08T21:21:15.416142Z"
    }
   },
   "outputs": [],
   "source": [
    "# создаем модель...\n",
    "\n",
    "secure_model = SecureLinReg()"
   ]
  },
  {
   "cell_type": "code",
   "execution_count": 26,
   "metadata": {
    "ExecuteTime": {
     "end_time": "2022-11-08T21:21:15.452118Z",
     "start_time": "2022-11-08T21:21:15.440127Z"
    }
   },
   "outputs": [],
   "source": [
    "# обучаем на исходных данных\n",
    "\n",
    "secure_model.fit(features, target)"
   ]
  },
  {
   "cell_type": "code",
   "execution_count": 27,
   "metadata": {
    "ExecuteTime": {
     "end_time": "2022-11-08T21:21:15.468110Z",
     "start_time": "2022-11-08T21:21:15.456117Z"
    }
   },
   "outputs": [],
   "source": [
    "# трясём с нее предсказания...\n",
    "\n",
    "predictions = secure_model.predict(features)"
   ]
  },
  {
   "cell_type": "code",
   "execution_count": 28,
   "metadata": {
    "ExecuteTime": {
     "end_time": "2022-11-08T21:21:15.500090Z",
     "start_time": "2022-11-08T21:21:15.472109Z"
    }
   },
   "outputs": [
    {
     "name": "stdout",
     "output_type": "stream",
     "text": [
      "R2 для безопасной модели, обученной на исходных данных: 0.42495\n"
     ]
    }
   ],
   "source": [
    "# ...и выводим метрику R2\n",
    "\n",
    "secure_model_r2 = r2_score(target, predictions)\n",
    "\n",
    "print('R2 для безопасной модели, обученной на исходных данных:', secure_model_r2.round(5))"
   ]
  },
  {
   "cell_type": "markdown",
   "metadata": {},
   "source": [
    "### Общий вывод"
   ]
  },
  {
   "cell_type": "markdown",
   "metadata": {},
   "source": [
    "В ходе данной работы было практически (сравнение показателей метрики R2) и математически доказано, что умножение исходной матрицы признаков на любую случайную матрицу(при условии, что она обратима) никак не влияет на способность модели предсказывать целевой признак. Составленный на основе этого наблюдения алгоритм целесообразно использовать для обезличивания исходых данных. Спасибо за внимание!"
   ]
  }
 ],
 "metadata": {
  "ExecuteTimeLog": [
   {
    "duration": 1657,
    "start_time": "2022-11-08T23:25:54.618Z"
   },
   {
    "duration": 111,
    "start_time": "2022-11-08T23:25:56.278Z"
   },
   {
    "duration": 18,
    "start_time": "2022-11-08T23:25:56.391Z"
   },
   {
    "duration": 4,
    "start_time": "2022-11-08T23:25:56.411Z"
   },
   {
    "duration": 15,
    "start_time": "2022-11-08T23:25:56.418Z"
   },
   {
    "duration": 8,
    "start_time": "2022-11-08T23:25:56.435Z"
   },
   {
    "duration": 30,
    "start_time": "2022-11-08T23:25:56.445Z"
   },
   {
    "duration": 6,
    "start_time": "2022-11-08T23:25:56.477Z"
   },
   {
    "duration": 7,
    "start_time": "2022-11-08T23:25:56.485Z"
   },
   {
    "duration": 6,
    "start_time": "2022-11-08T23:25:56.493Z"
   },
   {
    "duration": 5,
    "start_time": "2022-11-08T23:25:56.501Z"
   },
   {
    "duration": 14,
    "start_time": "2022-11-08T23:25:56.507Z"
   },
   {
    "duration": 10,
    "start_time": "2022-11-08T23:25:56.523Z"
   },
   {
    "duration": 41,
    "start_time": "2022-11-08T23:25:56.536Z"
   },
   {
    "duration": 5,
    "start_time": "2022-11-08T23:25:56.579Z"
   },
   {
    "duration": 16,
    "start_time": "2022-11-08T23:25:56.586Z"
   },
   {
    "duration": 11,
    "start_time": "2022-11-08T23:25:56.604Z"
   },
   {
    "duration": 60,
    "start_time": "2022-11-08T23:25:56.617Z"
   },
   {
    "duration": 97,
    "start_time": "2022-11-08T23:25:56.679Z"
   },
   {
    "duration": 94,
    "start_time": "2022-11-08T23:25:56.779Z"
   },
   {
    "duration": 14,
    "start_time": "2022-11-08T23:25:56.875Z"
   },
   {
    "duration": 190,
    "start_time": "2022-11-08T23:25:56.891Z"
   },
   {
    "duration": 8,
    "start_time": "2022-11-08T23:25:57.083Z"
   },
   {
    "duration": 181,
    "start_time": "2022-11-08T23:25:57.093Z"
   },
   {
    "duration": 9,
    "start_time": "2022-11-08T23:25:57.276Z"
   },
   {
    "duration": 6,
    "start_time": "2022-11-08T23:25:57.287Z"
   },
   {
    "duration": 7,
    "start_time": "2022-11-08T23:25:57.295Z"
   },
   {
    "duration": 75,
    "start_time": "2022-11-08T23:25:57.305Z"
   },
   {
    "duration": 203,
    "start_time": "2022-11-08T23:25:57.383Z"
   },
   {
    "duration": 66,
    "start_time": "2022-11-09T07:12:18.970Z"
   },
   {
    "duration": 1231,
    "start_time": "2022-11-09T07:23:21.893Z"
   },
   {
    "duration": 146,
    "start_time": "2022-11-09T07:23:23.126Z"
   },
   {
    "duration": 17,
    "start_time": "2022-11-09T07:23:23.274Z"
   },
   {
    "duration": 4,
    "start_time": "2022-11-09T07:23:23.294Z"
   },
   {
    "duration": 18,
    "start_time": "2022-11-09T07:23:23.300Z"
   },
   {
    "duration": 7,
    "start_time": "2022-11-09T07:23:23.320Z"
   },
   {
    "duration": 46,
    "start_time": "2022-11-09T07:23:23.329Z"
   },
   {
    "duration": 6,
    "start_time": "2022-11-09T07:23:23.376Z"
   },
   {
    "duration": 6,
    "start_time": "2022-11-09T07:23:23.384Z"
   },
   {
    "duration": 9,
    "start_time": "2022-11-09T07:23:23.393Z"
   },
   {
    "duration": 8,
    "start_time": "2022-11-09T07:23:23.404Z"
   },
   {
    "duration": 19,
    "start_time": "2022-11-09T07:23:23.414Z"
   },
   {
    "duration": 37,
    "start_time": "2022-11-09T07:23:23.435Z"
   },
   {
    "duration": 5,
    "start_time": "2022-11-09T07:23:23.475Z"
   },
   {
    "duration": 6,
    "start_time": "2022-11-09T07:23:23.483Z"
   },
   {
    "duration": 8,
    "start_time": "2022-11-09T07:23:23.491Z"
   },
   {
    "duration": 10,
    "start_time": "2022-11-09T07:23:23.501Z"
   },
   {
    "duration": 5,
    "start_time": "2022-11-09T07:23:23.572Z"
   },
   {
    "duration": 96,
    "start_time": "2022-11-09T07:23:23.579Z"
   },
   {
    "duration": 99,
    "start_time": "2022-11-09T07:23:23.678Z"
   },
   {
    "duration": 96,
    "start_time": "2022-11-09T07:23:23.779Z"
   },
   {
    "duration": 100,
    "start_time": "2022-11-09T07:23:23.878Z"
   },
   {
    "duration": 19,
    "start_time": "2022-11-09T07:23:23.980Z"
   },
   {
    "duration": 101,
    "start_time": "2022-11-09T07:23:24.073Z"
   },
   {
    "duration": 11,
    "start_time": "2022-11-09T07:23:24.176Z"
   },
   {
    "duration": 6,
    "start_time": "2022-11-09T07:23:24.189Z"
   },
   {
    "duration": 126,
    "start_time": "2022-11-09T07:23:24.197Z"
   },
   {
    "duration": 0,
    "start_time": "2022-11-09T07:23:24.325Z"
   },
   {
    "duration": 0,
    "start_time": "2022-11-09T07:23:24.326Z"
   },
   {
    "duration": 1355,
    "start_time": "2022-11-09T07:24:08.816Z"
   },
   {
    "duration": 61,
    "start_time": "2022-11-09T07:24:10.173Z"
   },
   {
    "duration": 19,
    "start_time": "2022-11-09T07:24:10.237Z"
   },
   {
    "duration": 4,
    "start_time": "2022-11-09T07:24:10.259Z"
   },
   {
    "duration": 19,
    "start_time": "2022-11-09T07:24:10.266Z"
   },
   {
    "duration": 9,
    "start_time": "2022-11-09T07:24:10.288Z"
   },
   {
    "duration": 10,
    "start_time": "2022-11-09T07:24:10.299Z"
   },
   {
    "duration": 6,
    "start_time": "2022-11-09T07:24:10.312Z"
   },
   {
    "duration": 8,
    "start_time": "2022-11-09T07:24:10.320Z"
   },
   {
    "duration": 9,
    "start_time": "2022-11-09T07:24:10.330Z"
   },
   {
    "duration": 33,
    "start_time": "2022-11-09T07:24:10.342Z"
   },
   {
    "duration": 21,
    "start_time": "2022-11-09T07:24:10.378Z"
   },
   {
    "duration": 16,
    "start_time": "2022-11-09T07:24:10.401Z"
   },
   {
    "duration": 9,
    "start_time": "2022-11-09T07:24:10.422Z"
   },
   {
    "duration": 12,
    "start_time": "2022-11-09T07:24:10.433Z"
   },
   {
    "duration": 25,
    "start_time": "2022-11-09T07:24:10.448Z"
   },
   {
    "duration": 10,
    "start_time": "2022-11-09T07:24:10.476Z"
   },
   {
    "duration": 86,
    "start_time": "2022-11-09T07:24:10.491Z"
   },
   {
    "duration": 194,
    "start_time": "2022-11-09T07:24:10.584Z"
   },
   {
    "duration": 6,
    "start_time": "2022-11-09T07:24:10.782Z"
   },
   {
    "duration": 95,
    "start_time": "2022-11-09T07:24:10.790Z"
   },
   {
    "duration": 186,
    "start_time": "2022-11-09T07:24:10.893Z"
   },
   {
    "duration": 9,
    "start_time": "2022-11-09T07:24:11.082Z"
   },
   {
    "duration": 202,
    "start_time": "2022-11-09T07:24:11.093Z"
   },
   {
    "duration": 18,
    "start_time": "2022-11-09T07:24:11.297Z"
   },
   {
    "duration": 13,
    "start_time": "2022-11-09T07:24:11.317Z"
   },
   {
    "duration": 182,
    "start_time": "2022-11-09T07:24:11.333Z"
   },
   {
    "duration": 0,
    "start_time": "2022-11-09T07:24:11.518Z"
   },
   {
    "duration": 0,
    "start_time": "2022-11-09T07:24:11.520Z"
   },
   {
    "duration": 1245,
    "start_time": "2022-11-09T07:24:21.445Z"
   },
   {
    "duration": 60,
    "start_time": "2022-11-09T07:24:22.693Z"
   },
   {
    "duration": 30,
    "start_time": "2022-11-09T07:24:22.756Z"
   },
   {
    "duration": 6,
    "start_time": "2022-11-09T07:24:22.789Z"
   },
   {
    "duration": 19,
    "start_time": "2022-11-09T07:24:22.798Z"
   },
   {
    "duration": 7,
    "start_time": "2022-11-09T07:24:22.820Z"
   },
   {
    "duration": 9,
    "start_time": "2022-11-09T07:24:22.829Z"
   },
   {
    "duration": 34,
    "start_time": "2022-11-09T07:24:22.840Z"
   },
   {
    "duration": 5,
    "start_time": "2022-11-09T07:24:22.876Z"
   },
   {
    "duration": 8,
    "start_time": "2022-11-09T07:24:22.882Z"
   },
   {
    "duration": 15,
    "start_time": "2022-11-09T07:24:22.891Z"
   },
   {
    "duration": 17,
    "start_time": "2022-11-09T07:24:22.908Z"
   },
   {
    "duration": 7,
    "start_time": "2022-11-09T07:24:22.927Z"
   },
   {
    "duration": 10,
    "start_time": "2022-11-09T07:24:22.937Z"
   },
   {
    "duration": 25,
    "start_time": "2022-11-09T07:24:22.948Z"
   },
   {
    "duration": 8,
    "start_time": "2022-11-09T07:24:22.975Z"
   },
   {
    "duration": 12,
    "start_time": "2022-11-09T07:24:22.984Z"
   },
   {
    "duration": 77,
    "start_time": "2022-11-09T07:24:22.999Z"
   },
   {
    "duration": 196,
    "start_time": "2022-11-09T07:24:23.078Z"
   },
   {
    "duration": 100,
    "start_time": "2022-11-09T07:24:23.278Z"
   },
   {
    "duration": 16,
    "start_time": "2022-11-09T07:24:23.380Z"
   },
   {
    "duration": 99,
    "start_time": "2022-11-09T07:24:23.473Z"
   },
   {
    "duration": 11,
    "start_time": "2022-11-09T07:24:23.575Z"
   },
   {
    "duration": 187,
    "start_time": "2022-11-09T07:24:23.589Z"
   },
   {
    "duration": 8,
    "start_time": "2022-11-09T07:24:23.779Z"
   },
   {
    "duration": 17,
    "start_time": "2022-11-09T07:24:23.788Z"
   },
   {
    "duration": 138,
    "start_time": "2022-11-09T07:24:23.813Z"
   },
   {
    "duration": 1,
    "start_time": "2022-11-09T07:24:23.952Z"
   },
   {
    "duration": 0,
    "start_time": "2022-11-09T07:24:23.954Z"
   },
   {
    "duration": 1230,
    "start_time": "2022-11-09T07:24:56.988Z"
   },
   {
    "duration": 61,
    "start_time": "2022-11-09T07:24:58.220Z"
   },
   {
    "duration": 16,
    "start_time": "2022-11-09T07:24:58.283Z"
   },
   {
    "duration": 5,
    "start_time": "2022-11-09T07:24:58.301Z"
   },
   {
    "duration": 20,
    "start_time": "2022-11-09T07:24:58.309Z"
   },
   {
    "duration": 10,
    "start_time": "2022-11-09T07:24:58.331Z"
   },
   {
    "duration": 34,
    "start_time": "2022-11-09T07:24:58.344Z"
   },
   {
    "duration": 12,
    "start_time": "2022-11-09T07:24:58.381Z"
   },
   {
    "duration": 10,
    "start_time": "2022-11-09T07:24:58.395Z"
   },
   {
    "duration": 10,
    "start_time": "2022-11-09T07:24:58.407Z"
   },
   {
    "duration": 13,
    "start_time": "2022-11-09T07:24:58.419Z"
   },
   {
    "duration": 16,
    "start_time": "2022-11-09T07:24:58.434Z"
   },
   {
    "duration": 19,
    "start_time": "2022-11-09T07:24:58.453Z"
   },
   {
    "duration": 14,
    "start_time": "2022-11-09T07:24:58.476Z"
   },
   {
    "duration": 6,
    "start_time": "2022-11-09T07:24:58.493Z"
   },
   {
    "duration": 14,
    "start_time": "2022-11-09T07:24:58.504Z"
   },
   {
    "duration": 11,
    "start_time": "2022-11-09T07:24:58.520Z"
   },
   {
    "duration": 141,
    "start_time": "2022-11-09T07:24:58.533Z"
   },
   {
    "duration": 20,
    "start_time": "2022-11-09T07:24:58.676Z"
   },
   {
    "duration": 105,
    "start_time": "2022-11-09T07:24:58.773Z"
   },
   {
    "duration": 20,
    "start_time": "2022-11-09T07:24:58.880Z"
   },
   {
    "duration": 185,
    "start_time": "2022-11-09T07:24:58.903Z"
   },
   {
    "duration": 14,
    "start_time": "2022-11-09T07:24:59.090Z"
   },
   {
    "duration": 77,
    "start_time": "2022-11-09T07:24:59.107Z"
   },
   {
    "duration": 96,
    "start_time": "2022-11-09T07:24:59.186Z"
   },
   {
    "duration": 10,
    "start_time": "2022-11-09T07:24:59.284Z"
   },
   {
    "duration": 126,
    "start_time": "2022-11-09T07:24:59.296Z"
   },
   {
    "duration": 0,
    "start_time": "2022-11-09T07:24:59.424Z"
   },
   {
    "duration": 0,
    "start_time": "2022-11-09T07:24:59.425Z"
   },
   {
    "duration": 1256,
    "start_time": "2022-11-09T07:25:34.415Z"
   },
   {
    "duration": 61,
    "start_time": "2022-11-09T07:25:35.674Z"
   },
   {
    "duration": 23,
    "start_time": "2022-11-09T07:25:35.738Z"
   },
   {
    "duration": 22,
    "start_time": "2022-11-09T07:25:35.764Z"
   },
   {
    "duration": 38,
    "start_time": "2022-11-09T07:25:35.788Z"
   },
   {
    "duration": 31,
    "start_time": "2022-11-09T07:25:35.828Z"
   },
   {
    "duration": 32,
    "start_time": "2022-11-09T07:25:35.861Z"
   },
   {
    "duration": 39,
    "start_time": "2022-11-09T07:25:35.895Z"
   },
   {
    "duration": 23,
    "start_time": "2022-11-09T07:25:35.936Z"
   },
   {
    "duration": 31,
    "start_time": "2022-11-09T07:25:35.962Z"
   },
   {
    "duration": 19,
    "start_time": "2022-11-09T07:25:35.995Z"
   },
   {
    "duration": 47,
    "start_time": "2022-11-09T07:25:36.017Z"
   },
   {
    "duration": 29,
    "start_time": "2022-11-09T07:25:36.067Z"
   },
   {
    "duration": 45,
    "start_time": "2022-11-09T07:25:36.099Z"
   },
   {
    "duration": 27,
    "start_time": "2022-11-09T07:25:36.146Z"
   },
   {
    "duration": 37,
    "start_time": "2022-11-09T07:25:36.176Z"
   },
   {
    "duration": 65,
    "start_time": "2022-11-09T07:25:36.216Z"
   },
   {
    "duration": 94,
    "start_time": "2022-11-09T07:25:36.284Z"
   },
   {
    "duration": 99,
    "start_time": "2022-11-09T07:25:36.381Z"
   },
   {
    "duration": 201,
    "start_time": "2022-11-09T07:25:36.486Z"
   },
   {
    "duration": 33,
    "start_time": "2022-11-09T07:25:36.690Z"
   },
   {
    "duration": 179,
    "start_time": "2022-11-09T07:25:36.728Z"
   },
   {
    "duration": 49,
    "start_time": "2022-11-09T07:25:36.912Z"
   },
   {
    "duration": 155,
    "start_time": "2022-11-09T07:25:36.963Z"
   },
   {
    "duration": 65,
    "start_time": "2022-11-09T07:25:37.122Z"
   },
   {
    "duration": 33,
    "start_time": "2022-11-09T07:25:37.189Z"
   },
   {
    "duration": 18,
    "start_time": "2022-11-09T07:25:37.224Z"
   },
   {
    "duration": 40,
    "start_time": "2022-11-09T07:25:37.246Z"
   },
   {
    "duration": 219,
    "start_time": "2022-11-09T07:25:37.289Z"
   },
   {
    "duration": 91,
    "start_time": "2022-11-09T15:23:05.215Z"
   },
   {
    "duration": 79,
    "start_time": "2022-11-09T15:23:11.925Z"
   },
   {
    "duration": 73,
    "start_time": "2022-11-09T15:23:24.554Z"
   },
   {
    "duration": 1127,
    "start_time": "2022-11-09T18:34:30.918Z"
   },
   {
    "duration": 105,
    "start_time": "2022-11-09T18:34:32.047Z"
   },
   {
    "duration": 22,
    "start_time": "2022-11-09T18:34:32.155Z"
   },
   {
    "duration": 3,
    "start_time": "2022-11-09T18:34:32.179Z"
   },
   {
    "duration": 14,
    "start_time": "2022-11-09T18:34:32.185Z"
   },
   {
    "duration": 10,
    "start_time": "2022-11-09T18:34:32.201Z"
   },
   {
    "duration": 8,
    "start_time": "2022-11-09T18:34:32.213Z"
   },
   {
    "duration": 4,
    "start_time": "2022-11-09T18:34:32.235Z"
   },
   {
    "duration": 7,
    "start_time": "2022-11-09T18:34:32.240Z"
   },
   {
    "duration": 5,
    "start_time": "2022-11-09T18:34:32.248Z"
   },
   {
    "duration": 12,
    "start_time": "2022-11-09T18:34:32.254Z"
   },
   {
    "duration": 4,
    "start_time": "2022-11-09T18:34:32.268Z"
   },
   {
    "duration": 12,
    "start_time": "2022-11-09T18:34:32.274Z"
   },
   {
    "duration": 3,
    "start_time": "2022-11-09T18:34:32.289Z"
   },
   {
    "duration": 6,
    "start_time": "2022-11-09T18:34:32.294Z"
   },
   {
    "duration": 4,
    "start_time": "2022-11-09T18:34:32.335Z"
   },
   {
    "duration": 16,
    "start_time": "2022-11-09T18:34:32.341Z"
   },
   {
    "duration": 103,
    "start_time": "2022-11-09T18:34:32.435Z"
   },
   {
    "duration": 103,
    "start_time": "2022-11-09T18:34:32.539Z"
   },
   {
    "duration": 20,
    "start_time": "2022-11-09T18:34:32.644Z"
   },
   {
    "duration": 169,
    "start_time": "2022-11-09T18:34:32.670Z"
   },
   {
    "duration": 96,
    "start_time": "2022-11-09T18:34:32.841Z"
   },
   {
    "duration": 105,
    "start_time": "2022-11-09T18:34:32.940Z"
   },
   {
    "duration": 7,
    "start_time": "2022-11-09T18:34:33.047Z"
   },
   {
    "duration": 6,
    "start_time": "2022-11-09T18:34:33.056Z"
   },
   {
    "duration": 8,
    "start_time": "2022-11-09T18:34:33.064Z"
   },
   {
    "duration": 164,
    "start_time": "2022-11-09T18:34:33.074Z"
   },
   {
    "duration": 107,
    "start_time": "2022-11-09T18:34:33.239Z"
   },
   {
    "duration": 80,
    "start_time": "2022-11-12T11:27:43.876Z"
   },
   {
    "duration": 76,
    "start_time": "2022-11-12T11:27:48.915Z"
   },
   {
    "duration": 70,
    "start_time": "2022-11-12T11:28:04.234Z"
   },
   {
    "duration": 69,
    "start_time": "2022-11-12T11:28:07.440Z"
   },
   {
    "duration": 1055,
    "start_time": "2022-11-12T11:28:28.618Z"
   },
   {
    "duration": 114,
    "start_time": "2022-11-12T11:28:29.675Z"
   },
   {
    "duration": 16,
    "start_time": "2022-11-12T11:28:29.791Z"
   },
   {
    "duration": 4,
    "start_time": "2022-11-12T11:28:29.809Z"
   },
   {
    "duration": 11,
    "start_time": "2022-11-12T11:28:29.815Z"
   },
   {
    "duration": 5,
    "start_time": "2022-11-12T11:28:29.828Z"
   },
   {
    "duration": 6,
    "start_time": "2022-11-12T11:28:29.834Z"
   },
   {
    "duration": 5,
    "start_time": "2022-11-12T11:28:29.842Z"
   },
   {
    "duration": 5,
    "start_time": "2022-11-12T11:28:29.848Z"
   },
   {
    "duration": 5,
    "start_time": "2022-11-12T11:28:29.855Z"
   },
   {
    "duration": 12,
    "start_time": "2022-11-12T11:28:29.862Z"
   },
   {
    "duration": 40,
    "start_time": "2022-11-12T11:28:29.875Z"
   },
   {
    "duration": 7,
    "start_time": "2022-11-12T11:28:29.916Z"
   },
   {
    "duration": 3,
    "start_time": "2022-11-12T11:28:29.924Z"
   },
   {
    "duration": 6,
    "start_time": "2022-11-12T11:28:29.929Z"
   },
   {
    "duration": 5,
    "start_time": "2022-11-12T11:28:29.937Z"
   },
   {
    "duration": 69,
    "start_time": "2022-11-12T11:28:29.944Z"
   },
   {
    "duration": 100,
    "start_time": "2022-11-12T11:28:30.016Z"
   },
   {
    "duration": 94,
    "start_time": "2022-11-12T11:28:30.121Z"
   },
   {
    "duration": 23,
    "start_time": "2022-11-12T11:28:30.218Z"
   },
   {
    "duration": 200,
    "start_time": "2022-11-12T11:28:30.244Z"
   },
   {
    "duration": 34,
    "start_time": "2022-11-12T11:28:30.446Z"
   },
   {
    "duration": 155,
    "start_time": "2022-11-12T11:28:30.482Z"
   },
   {
    "duration": 15,
    "start_time": "2022-11-12T11:28:30.639Z"
   },
   {
    "duration": 14,
    "start_time": "2022-11-12T11:28:30.655Z"
   },
   {
    "duration": 9,
    "start_time": "2022-11-12T11:28:30.670Z"
   },
   {
    "duration": 34,
    "start_time": "2022-11-12T11:28:30.680Z"
   },
   {
    "duration": 4,
    "start_time": "2022-11-12T11:28:30.717Z"
   }
  ],
  "kernelspec": {
   "display_name": "Python 3 (ipykernel)",
   "language": "python",
   "name": "python3"
  },
  "language_info": {
   "codemirror_mode": {
    "name": "ipython",
    "version": 3
   },
   "file_extension": ".py",
   "mimetype": "text/x-python",
   "name": "python",
   "nbconvert_exporter": "python",
   "pygments_lexer": "ipython3",
   "version": "3.9.7"
  },
  "toc": {
   "base_numbering": 1,
   "nav_menu": {},
   "number_sections": true,
   "sideBar": true,
   "skip_h1_title": true,
   "title_cell": "Содержание",
   "title_sidebar": "Contents",
   "toc_cell": true,
   "toc_position": {},
   "toc_section_display": true,
   "toc_window_display": true
  }
 },
 "nbformat": 4,
 "nbformat_minor": 4
}
